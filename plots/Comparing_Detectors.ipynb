{
 "cells": [
  {
   "cell_type": "markdown",
   "id": "f4728cfb-9aa2-4f39-9da9-62890e900bde",
   "metadata": {
    "tags": []
   },
   "source": [
    "# Comparing Detectors\n",
    "\n",
    "The purpose of this notebook is to compare the results of tests with specific detectors."
   ]
  },
  {
   "cell_type": "code",
   "execution_count": 1,
   "id": "ecfdc4b5-80f5-4580-8bc6-341dbb080fdb",
   "metadata": {},
   "outputs": [],
   "source": [
    "#Import libraries\n",
    "import pandas as pd\n",
    "import numpy as np\n",
    "import lmfit as lf\n",
    "import matplotlib.pyplot as plt\n",
    "from scipy.interpolate import InterpolatedUnivariateSpline as interp"
   ]
  },
  {
   "cell_type": "code",
   "execution_count": null,
   "id": "5ff780ec-62a2-4391-97e2-4acbecca27fb",
   "metadata": {},
   "outputs": [],
   "source": [
    "#Import data\n",
    "\n",
    "det19Na22 = pd.read_csv(\"data/22Na_stepsize136_30ssteps.csv\")\n",
    "det05Na22 = pd.read_csv(\"data/Na22_det5.csv\")\n",
    "detAlNa22 = pd.read_csv(\"data/Na22.csv\")\n",
    "\n",
    "thrs19Na = det19Na22.iloc[:,0]\n",
    "thrs05Na = det05Na22.iloc[:,0]\n",
    "thrsAlNa = detAlNa22.iloc[:,0]\n",
    "\n",
    "rate19Na = det19Na22.iloc[:,1]\n",
    "thrs05Na = det05Na22.iloc[:,1]\n",
    "thrsAlNa = detAlNa22.iloc[:,0]"
   ]
  }
 ],
 "metadata": {
  "kernelspec": {
   "display_name": "Python 3 (ipykernel)",
   "language": "python",
   "name": "python3"
  },
  "language_info": {
   "codemirror_mode": {
    "name": "ipython",
    "version": 3
   },
   "file_extension": ".py",
   "mimetype": "text/x-python",
   "name": "python",
   "nbconvert_exporter": "python",
   "pygments_lexer": "ipython3",
   "version": "3.9.12"
  }
 },
 "nbformat": 4,
 "nbformat_minor": 5
}
